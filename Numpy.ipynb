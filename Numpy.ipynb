{
  "nbformat": 4,
  "nbformat_minor": 0,
  "metadata": {
    "colab": {
      "provenance": [],
      "authorship_tag": "ABX9TyNerkSZtlPwf0gCX7eKudio",
      "include_colab_link": true
    },
    "kernelspec": {
      "name": "python3",
      "display_name": "Python 3"
    },
    "language_info": {
      "name": "python"
    }
  },
  "cells": [
    {
      "cell_type": "markdown",
      "metadata": {
        "id": "view-in-github",
        "colab_type": "text"
      },
      "source": [
        "<a href=\"https://colab.research.google.com/github/VyshnaviVunnamatla/CarSales-Dashboard/blob/main/Numpy.ipynb\" target=\"_parent\"><img src=\"https://colab.research.google.com/assets/colab-badge.svg\" alt=\"Open In Colab\"/></a>"
      ]
    },
    {
      "cell_type": "markdown",
      "source": [
        "\n",
        "# GETTING FAMILIAR WITH NUMPY\n"
      ],
      "metadata": {
        "id": "P2j8rj4DGlo-"
      }
    },
    {
      "cell_type": "code",
      "source": [
        "import numpy as np"
      ],
      "metadata": {
        "id": "KhaqsEI8HSd3"
      },
      "execution_count": null,
      "outputs": []
    },
    {
      "cell_type": "markdown",
      "source": [
        "**Creating arrays**"
      ],
      "metadata": {
        "id": "weiNjLYXJTca"
      }
    },
    {
      "cell_type": "code",
      "execution_count": null,
      "metadata": {
        "id": "yaSGiwURGkf6"
      },
      "outputs": [],
      "source": [
        "# Creating a 1D array\n",
        "array_1d = np.array([1, 2, 3, 4, 5])\n",
        "\n",
        "# Creating a 2D array (matrix)\n",
        "array_2d = np.array([[1, 2, 3], [4, 5, 6]])"
      ]
    },
    {
      "cell_type": "markdown",
      "source": [
        "**Basic operations**"
      ],
      "metadata": {
        "id": "j0752RnuJcKq"
      }
    },
    {
      "cell_type": "code",
      "source": [
        "array_a = np.array([1, 2, 3])\n",
        "array_b = np.array([4, 5, 6])\n",
        "\n",
        "# Basic Operations\n",
        "add_arrays = array_a + array_b\n",
        "multiply_arrays = array_a * array_b\n",
        "square_array = np.square(array_a)\n",
        "\n",
        "print(\"Addition of Arrays is: \",add_arrays)\n",
        "print(\"Multiplication of arrays is: \",multiply_arrays)\n",
        "print(\"square of a array a is: \",square_array)"
      ],
      "metadata": {
        "colab": {
          "base_uri": "https://localhost:8080/"
        },
        "id": "oXphRwqLIG3I",
        "outputId": "0acb398a-f5f7-442b-b710-df767fc5d354"
      },
      "execution_count": null,
      "outputs": [
        {
          "output_type": "stream",
          "name": "stdout",
          "text": [
            "Addition of Arrays is:  [5 7 9]\n",
            "Multiplication of arrays is:  [ 4 10 18]\n",
            "square of a array a is:  [1 4 9]\n"
          ]
        }
      ]
    },
    {
      "cell_type": "markdown",
      "source": [
        "**Array Properties**"
      ],
      "metadata": {
        "id": "8bMMqxidKMdF"
      }
    },
    {
      "cell_type": "code",
      "source": [
        "print(\"Shape of array:\", array_2d.shape)\n",
        "print(\"Size of array:\", array_2d.size)\n",
        "print(\"Data type of elements:\", array_2d.dtype)\n",
        "print(\"Number of dimensions:\", array_2d.ndim)\n",
        "print(\"Number of bytes:\", array_2d.nbytes)\n",
        "print(\"Item size:\", array_2d.itemsize)"
      ],
      "metadata": {
        "colab": {
          "base_uri": "https://localhost:8080/"
        },
        "id": "I8I5FzkKKUiP",
        "outputId": "cac07ab2-622c-416f-e6f6-0cbfa106b731"
      },
      "execution_count": null,
      "outputs": [
        {
          "output_type": "stream",
          "name": "stdout",
          "text": [
            "Shape of array: (2, 3)\n",
            "Size of array: 6\n",
            "Data type of elements: int64\n",
            "Number of dimensions: 2\n",
            "Number of bytes: 48\n",
            "Item size: 8\n"
          ]
        }
      ]
    },
    {
      "cell_type": "markdown",
      "source": [
        "# DATA MANIPULATION\n"
      ],
      "metadata": {
        "id": "qNpdAKZMKwCd"
      }
    },
    {
      "cell_type": "markdown",
      "source": [
        "**Indexing and Slicing**"
      ],
      "metadata": {
        "id": "Qp4pHvmFLCN4"
      }
    },
    {
      "cell_type": "code",
      "source": [
        "# Indexing in 1D array\n",
        "first_element = array_1d[0]\n",
        "print(first_element)\n",
        "\n",
        "# Slicing in 1D array\n",
        "sub_array = array_1d[1:4]\n",
        "print(sub_array)\n",
        "\n",
        "# Indexing in 2D array\n",
        "element_2d = array_2d[1, 2]\n",
        "print(element_2d)\n",
        "\n",
        "# Slicing in 2D array\n",
        "sub_array_2d = array_2d[:, 1:3]\n",
        "print(sub_array_2d)"
      ],
      "metadata": {
        "colab": {
          "base_uri": "https://localhost:8080/"
        },
        "id": "jzVsUsQjK2rp",
        "outputId": "635e72f5-f7c0-4950-a9d9-c7cb3b365d45"
      },
      "execution_count": null,
      "outputs": [
        {
          "output_type": "stream",
          "name": "stdout",
          "text": [
            "1\n",
            "[2 3 4]\n",
            "6\n",
            "[[2 3]\n",
            " [5 6]]\n"
          ]
        }
      ]
    },
    {
      "cell_type": "markdown",
      "source": [
        "**Reshaping**"
      ],
      "metadata": {
        "id": "TGcuYZ5FL36p"
      }
    },
    {
      "cell_type": "code",
      "source": [
        "reshaped_array = array_2d.reshape(3, 2)  # Reshape 2x3 array to 3x2\n",
        "print(reshaped_array)\n",
        "\n",
        "flattened_array = array_2d.flatten()     # Convert 2D array to 1D\n",
        "print(flattened_array)"
      ],
      "metadata": {
        "colab": {
          "base_uri": "https://localhost:8080/"
        },
        "id": "gPqVUHChL3Io",
        "outputId": "e70386dd-93cf-4a6f-d1c3-24e37692df60"
      },
      "execution_count": null,
      "outputs": [
        {
          "output_type": "stream",
          "name": "stdout",
          "text": [
            "[[1 2]\n",
            " [3 4]\n",
            " [5 6]]\n",
            "[1 2 3 4 5 6]\n"
          ]
        }
      ]
    },
    {
      "cell_type": "markdown",
      "source": [
        "**Mathematical operations**"
      ],
      "metadata": {
        "id": "okSuBWOMMN_y"
      }
    },
    {
      "cell_type": "code",
      "source": [
        "sin_array = np.sin(array_1d)  # Apply sine function element-wise\n",
        "print(sin_array)\n",
        "\n",
        "log_array = np.log(array_1d + 1)  # Apply natural logarithm (shifted to avoid log(0))\n",
        "print(log_array)"
      ],
      "metadata": {
        "colab": {
          "base_uri": "https://localhost:8080/"
        },
        "id": "0d3OJo-kMTo5",
        "outputId": "5c4e9fef-95c1-4bd8-b203-be1759724491"
      },
      "execution_count": null,
      "outputs": [
        {
          "output_type": "stream",
          "name": "stdout",
          "text": [
            "[ 0.84147098  0.90929743  0.14112001 -0.7568025  -0.95892427]\n",
            "[0.69314718 1.09861229 1.38629436 1.60943791 1.79175947]\n"
          ]
        }
      ]
    },
    {
      "cell_type": "markdown",
      "source": [
        "# DATA AGGREGATION\n"
      ],
      "metadata": {
        "id": "nZJD6NYQMgTF"
      }
    },
    {
      "cell_type": "markdown",
      "source": [
        "**Appliying statistics**\n"
      ],
      "metadata": {
        "id": "PkyM9H3aMm0R"
      }
    },
    {
      "cell_type": "code",
      "source": [
        "data_array = np.array([1, 2, 3, 4, 5, 6, 7, 8, 9])\n",
        "\n",
        "mean_value = np.mean(data_array)  # Mean of array\n",
        "print(\"Mean of the array is: \",mean_value)\n",
        "\n",
        "median_value = np.median(data_array)  # Median of array\n",
        "print(\"Median of the array is: \",median_value)\n",
        "\n",
        "std_dev_value = np.std(data_array)  # Standard deviation\n",
        "print(\"Standard deviation of the array is: \",std_dev_value)\n",
        "\n",
        "sum_value = np.sum(data_array)  # Sum of all elements\n",
        "print(\"Sum of the array is: \",sum_value)\n"
      ],
      "metadata": {
        "colab": {
          "base_uri": "https://localhost:8080/"
        },
        "id": "cWrT2PpCM14t",
        "outputId": "26919206-22c9-4e86-e4ee-48d7308629a9"
      },
      "execution_count": null,
      "outputs": [
        {
          "output_type": "stream",
          "name": "stdout",
          "text": [
            "Mean of the array is:  5.0\n",
            "Median of the array is:  5.0\n",
            "Standard deviation of the array is:  2.581988897471611\n",
            "Sum of the array is:  45\n"
          ]
        }
      ]
    },
    {
      "cell_type": "markdown",
      "source": [
        "**Grouping Data**"
      ],
      "metadata": {
        "id": "UMxniyUTNTq4"
      }
    },
    {
      "cell_type": "code",
      "source": [
        "even_numbers = data_array[data_array % 2 == 0]\n",
        "print(\"Even numbers in the array are: \",even_numbers)\n",
        "\n",
        "odd_numbers = data_array[data_array % 2 != 0]\n",
        "print(\"Odd numbers in the array are: \",odd_numbers)"
      ],
      "metadata": {
        "colab": {
          "base_uri": "https://localhost:8080/"
        },
        "id": "umCd2v5_NWIJ",
        "outputId": "1ed9ec29-eff3-4949-f33c-fff52ce61007"
      },
      "execution_count": null,
      "outputs": [
        {
          "output_type": "stream",
          "name": "stdout",
          "text": [
            "Even numbers in the array are:  [2 4 6 8]\n",
            "Odd numbers in the array are:  [1 3 5 7 9]\n"
          ]
        }
      ]
    },
    {
      "cell_type": "markdown",
      "source": [
        "**Splitting**"
      ],
      "metadata": {
        "id": "_nr579hdNjbp"
      }
    },
    {
      "cell_type": "code",
      "source": [
        "split_array = np.split(data_array, 3)\n",
        "print(\"Splitted array is: \",split_array)"
      ],
      "metadata": {
        "colab": {
          "base_uri": "https://localhost:8080/"
        },
        "id": "3wvSZajANf2p",
        "outputId": "a284c195-d1cd-4c71-c2ca-b6032c717db0"
      },
      "execution_count": null,
      "outputs": [
        {
          "output_type": "stream",
          "name": "stdout",
          "text": [
            "Splitted array is:  [array([1, 2, 3]), array([4, 5, 6]), array([7, 8, 9])]\n"
          ]
        }
      ]
    },
    {
      "cell_type": "markdown",
      "source": [
        "# DATA ANALYSIS"
      ],
      "metadata": {
        "id": "gKq8OLxiN4dv"
      }
    },
    {
      "cell_type": "markdown",
      "source": [
        "**Correlation**"
      ],
      "metadata": {
        "id": "qz8RdAOXN-6J"
      }
    },
    {
      "cell_type": "code",
      "source": [
        "array_x = np.array([1, 2, 3, 4, 5])\n",
        "array_y = np.array([10, 20, 30, 40, 50])\n",
        "\n",
        "correlation_matrix = np.corrcoef(array_x, array_y)  # Correlation coefficient matrix\n",
        "print(\"Correlation coefficient matrix:\", correlation_matrix)"
      ],
      "metadata": {
        "colab": {
          "base_uri": "https://localhost:8080/"
        },
        "id": "hFdS66cbOF5p",
        "outputId": "6367f1d9-5b83-42af-cae0-37f44f7ca378"
      },
      "execution_count": null,
      "outputs": [
        {
          "output_type": "stream",
          "name": "stdout",
          "text": [
            "Correlation coefficient matrix: [[1. 1.]\n",
            " [1. 1.]]\n"
          ]
        }
      ]
    },
    {
      "cell_type": "markdown",
      "source": [
        "**Outlier detection**"
      ],
      "metadata": {
        "id": "htXVkdqmOkZX"
      }
    },
    {
      "cell_type": "code",
      "source": [
        "#Identify data points that are significantly different from others\n",
        "\n",
        "mean_value = np.mean(data_array)\n",
        "std_dev_value = np.std(data_array)\n",
        "\n",
        "outliers = data_array[np.abs(data_array - mean_value) > std_dev_value]\n",
        "print(\"Outliers in the array are: \",outliers)\n"
      ],
      "metadata": {
        "colab": {
          "base_uri": "https://localhost:8080/"
        },
        "id": "v0BAoWneOpCu",
        "outputId": "892f04af-bc81-4477-d52c-b4e2ece64e34"
      },
      "execution_count": null,
      "outputs": [
        {
          "output_type": "stream",
          "name": "stdout",
          "text": [
            "Outliers in the array are:  [1 2 8 9]\n"
          ]
        }
      ]
    },
    {
      "cell_type": "markdown",
      "source": [
        "**Percentiles**"
      ],
      "metadata": {
        "id": "8uQDKGWcPBoE"
      }
    },
    {
      "cell_type": "code",
      "source": [
        "percentile_25 = np.percentile(data_array, 25)\n",
        "percentile_50 = np.percentile(data_array, 50)\n",
        "percentile_75 = np.percentile(data_array, 75)\n",
        "\n",
        "print(\"25th percentile:\", percentile_25)\n",
        "print(\"50th percentile (median):\", percentile_50)\n",
        "print(\"75th percentile:\", percentile_75)"
      ],
      "metadata": {
        "colab": {
          "base_uri": "https://localhost:8080/"
        },
        "id": "fcOcs__9PGli",
        "outputId": "e971beee-d5fd-4cbb-8e3b-fa174fc7ed5d"
      },
      "execution_count": null,
      "outputs": [
        {
          "output_type": "stream",
          "name": "stdout",
          "text": [
            "25th percentile: 3.0\n",
            "50th percentile (median): 5.0\n",
            "75th percentile: 7.0\n"
          ]
        }
      ]
    },
    {
      "cell_type": "markdown",
      "source": [
        "## APPLICATION IN DATA SCIENCE"
      ],
      "metadata": {
        "id": "qNJgwiwmPWNS"
      }
    },
    {
      "cell_type": "markdown",
      "source": [
        "In the program created, NumPy plays a crucial role in simplifying data manipulation, aggregation, and analysis tasks. Here’s how it benefits data science professionals:"
      ],
      "metadata": {
        "id": "brVo7BNkPcM0"
      }
    },
    {
      "cell_type": "markdown",
      "source": [
        "**Efficiency and Speed:**\n",
        "\n",
        "NumPy performs operations on entire arrays at once, eliminating the need for explicit loops in Python. This leads to faster computations, which is critical when working with large datasets."
      ],
      "metadata": {
        "id": "InYpLWmLP0es"
      }
    },
    {
      "cell_type": "markdown",
      "source": [
        "**Memory Efficiency:**\n",
        "\n",
        "NumPy arrays consume less memory compared to Python lists, which store elements as objects.\n",
        "\n",
        "Data science often involves working with large datasets, and NumPy's efficient memory usage makes it possible to process these datasets without consuming excessive memory."
      ],
      "metadata": {
        "id": "5yYCE_9CQHW9"
      }
    },
    {
      "cell_type": "markdown",
      "source": [
        "NumPy provides a wide range of mathematical, statistical, and linear algebra functions that simplify complex data analysis. This includes functions for computing correlations, identifying outliers, and calculating percentiles, all of which are common tasks in data science.\n",
        "\n",
        "Many data science libraries like Pandas, scikit-learn, and TensorFlow are built on top of NumPy."
      ],
      "metadata": {
        "id": "OSgiwddGQhJ_"
      }
    },
    {
      "cell_type": "markdown",
      "source": [
        "**Real world examples where NumPy is used**\n",
        "\n",
        "In real-world applications, NumPy's performance is crucial. Whether it’s speeding up data preparation in\n",
        "\n",
        "machine learning pipelines\n",
        "\n",
        "optimizing portfolios in finance\n",
        "\n",
        "or running simulations in scientific research\n",
        "\n",
        "NumPy provides the necessary tools for handling large datasets and performing complex calculations efficiently."
      ],
      "metadata": {
        "id": "5cslV8JDQuBv"
      }
    }
  ]
}